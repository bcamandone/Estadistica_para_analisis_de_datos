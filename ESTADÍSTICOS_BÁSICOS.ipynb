{
 "cells": [
  {
   "cell_type": "code",
   "execution_count": 32,
   "id": "hITcupQlAwpy",
   "metadata": {
    "colab": {
     "base_uri": "https://localhost:8080/",
     "height": 206
    },
    "id": "hITcupQlAwpy",
    "outputId": "08ae623d-c291-4e6a-c685-54bcdf8ce8ba"
   },
   "outputs": [
    {
     "data": {
      "text/html": [
       "<div>\n",
       "<style scoped>\n",
       "    .dataframe tbody tr th:only-of-type {\n",
       "        vertical-align: middle;\n",
       "    }\n",
       "\n",
       "    .dataframe tbody tr th {\n",
       "        vertical-align: top;\n",
       "    }\n",
       "\n",
       "    .dataframe thead th {\n",
       "        text-align: right;\n",
       "    }\n",
       "</style>\n",
       "<table border=\"1\" class=\"dataframe\">\n",
       "  <thead>\n",
       "    <tr style=\"text-align: right;\">\n",
       "      <th></th>\n",
       "      <th>Unnamed: 0</th>\n",
       "      <th>rank</th>\n",
       "      <th>name</th>\n",
       "      <th>networth</th>\n",
       "      <th>age</th>\n",
       "      <th>country</th>\n",
       "      <th>source</th>\n",
       "      <th>industry</th>\n",
       "    </tr>\n",
       "  </thead>\n",
       "  <tbody>\n",
       "    <tr>\n",
       "      <th>0</th>\n",
       "      <td>0</td>\n",
       "      <td>1</td>\n",
       "      <td>Elon Musk</td>\n",
       "      <td>$219 B</td>\n",
       "      <td>50</td>\n",
       "      <td>United States</td>\n",
       "      <td>Tesla, SpaceX</td>\n",
       "      <td>Automotive</td>\n",
       "    </tr>\n",
       "    <tr>\n",
       "      <th>1</th>\n",
       "      <td>1</td>\n",
       "      <td>2</td>\n",
       "      <td>Jeff Bezos</td>\n",
       "      <td>$171 B</td>\n",
       "      <td>58</td>\n",
       "      <td>United States</td>\n",
       "      <td>Amazon</td>\n",
       "      <td>Technology</td>\n",
       "    </tr>\n",
       "    <tr>\n",
       "      <th>2</th>\n",
       "      <td>2</td>\n",
       "      <td>3</td>\n",
       "      <td>Bernard Arnault &amp; family</td>\n",
       "      <td>$158 B</td>\n",
       "      <td>73</td>\n",
       "      <td>France</td>\n",
       "      <td>LVMH</td>\n",
       "      <td>Fashion &amp; Retail</td>\n",
       "    </tr>\n",
       "    <tr>\n",
       "      <th>3</th>\n",
       "      <td>3</td>\n",
       "      <td>4</td>\n",
       "      <td>Bill Gates</td>\n",
       "      <td>$129 B</td>\n",
       "      <td>66</td>\n",
       "      <td>United States</td>\n",
       "      <td>Microsoft</td>\n",
       "      <td>Technology</td>\n",
       "    </tr>\n",
       "    <tr>\n",
       "      <th>4</th>\n",
       "      <td>4</td>\n",
       "      <td>5</td>\n",
       "      <td>Warren Buffett</td>\n",
       "      <td>$118 B</td>\n",
       "      <td>91</td>\n",
       "      <td>United States</td>\n",
       "      <td>Berkshire Hathaway</td>\n",
       "      <td>Finance &amp; Investments</td>\n",
       "    </tr>\n",
       "  </tbody>\n",
       "</table>\n",
       "</div>"
      ],
      "text/plain": [
       "   Unnamed: 0  rank                       name networth  age        country  \\\n",
       "0           0     1                 Elon Musk    $219 B   50  United States   \n",
       "1           1     2                Jeff Bezos    $171 B   58  United States   \n",
       "2           2     3  Bernard Arnault & family    $158 B   73         France   \n",
       "3           3     4                Bill Gates    $129 B   66  United States   \n",
       "4           4     5            Warren Buffett    $118 B   91  United States   \n",
       "\n",
       "               source                industry  \n",
       "0       Tesla, SpaceX             Automotive   \n",
       "1              Amazon             Technology   \n",
       "2                LVMH       Fashion & Retail   \n",
       "3           Microsoft             Technology   \n",
       "4  Berkshire Hathaway  Finance & Investments   "
      ]
     },
     "execution_count": 32,
     "metadata": {},
     "output_type": "execute_result"
    }
   ],
   "source": [
    "import pandas as pd\n",
    "df = pd.read_csv(\"Datasets/2022_forbes_billionaires.csv\")\n",
    "df.head(5)"
   ]
  },
  {
   "cell_type": "code",
   "execution_count": 33,
   "id": "bVu0atmWCk-m",
   "metadata": {
    "id": "bVu0atmWCk-m"
   },
   "outputs": [],
   "source": [
    "df[\"networth_numeric\"] = df[\"networth\"].apply(lambda x: x.replace(\"$\",\"\").replace(\"B\", \"\")).astype(float)"
   ]
  },
  {
   "cell_type": "code",
   "execution_count": 34,
   "id": "RZcdAaq0C-Qp",
   "metadata": {
    "colab": {
     "base_uri": "https://localhost:8080/",
     "height": 206
    },
    "id": "RZcdAaq0C-Qp",
    "outputId": "d78e7449-7456-472e-aa1f-5f6a765bb6fa"
   },
   "outputs": [
    {
     "data": {
      "text/html": [
       "<div>\n",
       "<style scoped>\n",
       "    .dataframe tbody tr th:only-of-type {\n",
       "        vertical-align: middle;\n",
       "    }\n",
       "\n",
       "    .dataframe tbody tr th {\n",
       "        vertical-align: top;\n",
       "    }\n",
       "\n",
       "    .dataframe thead th {\n",
       "        text-align: right;\n",
       "    }\n",
       "</style>\n",
       "<table border=\"1\" class=\"dataframe\">\n",
       "  <thead>\n",
       "    <tr style=\"text-align: right;\">\n",
       "      <th></th>\n",
       "      <th>Unnamed: 0</th>\n",
       "      <th>rank</th>\n",
       "      <th>name</th>\n",
       "      <th>networth</th>\n",
       "      <th>age</th>\n",
       "      <th>country</th>\n",
       "      <th>source</th>\n",
       "      <th>industry</th>\n",
       "      <th>networth_numeric</th>\n",
       "    </tr>\n",
       "  </thead>\n",
       "  <tbody>\n",
       "    <tr>\n",
       "      <th>0</th>\n",
       "      <td>0</td>\n",
       "      <td>1</td>\n",
       "      <td>Elon Musk</td>\n",
       "      <td>$219 B</td>\n",
       "      <td>50</td>\n",
       "      <td>United States</td>\n",
       "      <td>Tesla, SpaceX</td>\n",
       "      <td>Automotive</td>\n",
       "      <td>219.0</td>\n",
       "    </tr>\n",
       "    <tr>\n",
       "      <th>1</th>\n",
       "      <td>1</td>\n",
       "      <td>2</td>\n",
       "      <td>Jeff Bezos</td>\n",
       "      <td>$171 B</td>\n",
       "      <td>58</td>\n",
       "      <td>United States</td>\n",
       "      <td>Amazon</td>\n",
       "      <td>Technology</td>\n",
       "      <td>171.0</td>\n",
       "    </tr>\n",
       "    <tr>\n",
       "      <th>2</th>\n",
       "      <td>2</td>\n",
       "      <td>3</td>\n",
       "      <td>Bernard Arnault &amp; family</td>\n",
       "      <td>$158 B</td>\n",
       "      <td>73</td>\n",
       "      <td>France</td>\n",
       "      <td>LVMH</td>\n",
       "      <td>Fashion &amp; Retail</td>\n",
       "      <td>158.0</td>\n",
       "    </tr>\n",
       "  </tbody>\n",
       "</table>\n",
       "</div>"
      ],
      "text/plain": [
       "   Unnamed: 0  rank                       name networth  age        country  \\\n",
       "0           0     1                 Elon Musk    $219 B   50  United States   \n",
       "1           1     2                Jeff Bezos    $171 B   58  United States   \n",
       "2           2     3  Bernard Arnault & family    $158 B   73         France   \n",
       "\n",
       "          source           industry  networth_numeric  \n",
       "0  Tesla, SpaceX        Automotive              219.0  \n",
       "1         Amazon        Technology              171.0  \n",
       "2           LVMH  Fashion & Retail              158.0  "
      ]
     },
     "execution_count": 34,
     "metadata": {},
     "output_type": "execute_result"
    }
   ],
   "source": [
    "df.head(3)"
   ]
  },
  {
   "cell_type": "markdown",
   "id": "fd6a1e8d",
   "metadata": {},
   "source": [
    "## ESTADISTICA DESCRIPTIVA <a class=\"anchor\" id=\"posicion\"></a>"
   ]
  },
  {
   "cell_type": "markdown",
   "id": "HP6Y_oYu67Mf",
   "metadata": {
    "id": "HP6Y_oYu67Mf"
   },
   "source": [
    "##  Estadísticos de posición <a class=\"anchor\" id=\"posicion\"></a>\n",
    "\n",
    "Los estadísticos de posición son aquellos que nos permiten dar una estimación del valor típico de la distribución de la variable. Hay que tener en cuenta que cuando trabajamos con datos, una columna puede tener varios miles de valores diferentes y necesitamos alguna medida que nos permita saber dónde se concentran la mayoría de los datos.\n",
    "\n",
    "\n"
   ]
  },
  {
   "cell_type": "markdown",
   "id": "k20TZNQQJgTQ",
   "metadata": {
    "id": "k20TZNQQJgTQ"
   },
   "source": [
    "### Media <a class=\"anchor\" id=\"media\"></a>\n",
    "La media es el valor promedio. Lo calculamos como la suma de todos los valores de la distribución dividido por el número de valores.\n",
    "\n",
    "\n",
    "<img src=\"https://drive.google.com/uc?id=1uuQXTWE5-EVOR3Td66b2TINuFP_UjPFc\" alt=\"drawing\" width=\"350\"/>\n",
    "\n",
    "\n"
   ]
  },
  {
   "cell_type": "code",
   "execution_count": 35,
   "id": "QJ3W8eZq6zVu",
   "metadata": {
    "colab": {
     "base_uri": "https://localhost:8080/"
    },
    "id": "QJ3W8eZq6zVu",
    "outputId": "7b4ce283-ed4d-47f4-bb0b-4e5bd18869e2"
   },
   "outputs": [
    {
     "name": "stdout",
     "output_type": "stream",
     "text": [
      "Edad media\n"
     ]
    },
    {
     "data": {
      "text/plain": [
       "64.27"
      ]
     },
     "execution_count": 35,
     "metadata": {},
     "output_type": "execute_result"
    }
   ],
   "source": [
    "print(\"Edad media\")\n",
    "round(df[\"age\"].mean(),2)"
   ]
  },
  {
   "cell_type": "code",
   "execution_count": 36,
   "id": "M91_2tdLDnNo",
   "metadata": {
    "colab": {
     "base_uri": "https://localhost:8080/"
    },
    "id": "M91_2tdLDnNo",
    "outputId": "52e9b8fb-5144-4d8c-e3e6-92ec8899f0ad"
   },
   "outputs": [
    {
     "name": "stdout",
     "output_type": "stream",
     "text": [
      "Riqueza media (Billion $)\n"
     ]
    },
    {
     "data": {
      "text/plain": [
       "4.86"
      ]
     },
     "execution_count": 36,
     "metadata": {},
     "output_type": "execute_result"
    }
   ],
   "source": [
    "print(\"Riqueza media (Billion $)\")\n",
    "round(df[\"networth_numeric\"].mean(),2)"
   ]
  },
  {
   "cell_type": "markdown",
   "id": "cqx_1AeqEN3s",
   "metadata": {
    "id": "cqx_1AeqEN3s"
   },
   "source": [
    "### Media ponderada<a class=\"anchor\" id=\"media_ponderada\"></a>\n",
    "\n",
    "La media ponderada se obtiene al multiplicar cada valor de la distribución por un peso específico y después dividiendo por la suma de todos los pesos. \n",
    "\n",
    "Esta métrica es útil para \"disminuir\" o \"aumentar\" el impacto de ciertas observaciones que, por su naturaleza, son menos precisas o más imprecisas. Por ejemplo, si estamos procesando datos que obtenemos de un sensor queremos que los valores de los sensores más precisos influyan más que los menos precisos. \n",
    "\n",
    "\n",
    "<img src=\"https://drive.google.com/uc?id=1FKhojcU53J1arnyRuI2pu35LBOjjKWyG\" alt=\"drawing\" width=\"400\"/>\n"
   ]
  },
  {
   "cell_type": "code",
   "execution_count": 37,
   "id": "xRBZRZDyGCr7",
   "metadata": {
    "colab": {
     "base_uri": "https://localhost:8080/"
    },
    "id": "xRBZRZDyGCr7",
    "outputId": "b3c1ef16-afd1-451c-98ff-9783619cca15"
   },
   "outputs": [
    {
     "name": "stdout",
     "output_type": "stream",
     "text": [
      "Edad media ponderando por la riqueza\n"
     ]
    },
    {
     "data": {
      "text/plain": [
       "65.43"
      ]
     },
     "execution_count": 37,
     "metadata": {},
     "output_type": "execute_result"
    }
   ],
   "source": [
    "print(\"Edad media ponderando por la riqueza\")\n",
    "round((df[\"age\"]*df[\"networth_numeric\"]).sum()/ df[\"networth_numeric\"].sum(),2)"
   ]
  },
  {
   "cell_type": "code",
   "execution_count": 9,
   "id": "LZwAdbVjPaLI",
   "metadata": {
    "colab": {
     "base_uri": "https://localhost:8080/"
    },
    "id": "LZwAdbVjPaLI",
    "outputId": "9c5e4a7c-311f-4f0d-ee68-e1775fbd5cb6"
   },
   "outputs": [
    {
     "data": {
      "text/plain": [
       "65.43"
      ]
     },
     "execution_count": 9,
     "metadata": {},
     "output_type": "execute_result"
    }
   ],
   "source": [
    "# Utilizando numpy\n",
    "import numpy as np\n",
    "round( np.average(df[\"age\"], weights=df[\"networth_numeric\"]),2)"
   ]
  },
  {
   "cell_type": "code",
   "execution_count": 10,
   "id": "993ee8d0",
   "metadata": {},
   "outputs": [
    {
     "data": {
      "text/plain": [
       "4.95"
      ]
     },
     "execution_count": 10,
     "metadata": {},
     "output_type": "execute_result"
    }
   ],
   "source": [
    "# Riqueza media ponderada por la edad \n",
    "import numpy as np\n",
    "round( np.average(df[\"networth_numeric\"], weights=df[\"age\"]),2)"
   ]
  },
  {
   "cell_type": "markdown",
   "id": "Z441qwluHQ62",
   "metadata": {
    "id": "Z441qwluHQ62"
   },
   "source": [
    "### Mediana<a class=\"anchor\" id=\"mediana\"></a>\n",
    "\n",
    "La mediana es la observación que se encuentra en la posición del centro al ordenar los datos de la distribución. En muchos casos, la mediana es un mejor estimador de la localización de la distribución ya que es menos sensible a posibles datos extremos que desvirtuarian la medida. Por ejemplo, con la riqueza de las personas más ricas del mundo, unas pocas personas tienen muchos más Billion que los demás y esto desplaza la media, sin embargo la mediana nos dará más sensibilidad sobre qué riqueza tiene la mayoría de los multimillonarios de Forbes."
   ]
  },
  {
   "cell_type": "code",
   "execution_count": 11,
   "id": "-VeYZRVtG7Ae",
   "metadata": {
    "colab": {
     "base_uri": "https://localhost:8080/"
    },
    "id": "-VeYZRVtG7Ae",
    "outputId": "23ce2bd5-fc39-4295-e49d-1c7cbe01646b"
   },
   "outputs": [
    {
     "name": "stdout",
     "output_type": "stream",
     "text": [
      "Mediana de la riqueza (B $)\n",
      "2.4\n"
     ]
    }
   ],
   "source": [
    "print(\"Mediana de la riqueza (B $)\")\n",
    "print(df[\"networth_numeric\"].median())"
   ]
  },
  {
   "cell_type": "code",
   "execution_count": 12,
   "id": "V-CWuyroIjvq",
   "metadata": {
    "colab": {
     "base_uri": "https://localhost:8080/"
    },
    "id": "V-CWuyroIjvq",
    "outputId": "7d250571-4857-483a-9547-75991fefd713"
   },
   "outputs": [
    {
     "name": "stdout",
     "output_type": "stream",
     "text": [
      "Mediana de la edad\n",
      "64.0\n"
     ]
    }
   ],
   "source": [
    "print(\"Mediana de la edad\")\n",
    "print(df[\"age\"].median())"
   ]
  },
  {
   "cell_type": "markdown",
   "id": "SAzL24fqKqmg",
   "metadata": {
    "id": "SAzL24fqKqmg"
   },
   "source": [
    "### Percentil\n",
    "Los percentiles son una medida que nos indica la observación que ocupa cierta posición en los datos ordenados. La posición la indicamos con porcentaje, por ejemplo, qué dato ocupa la posición del 12%, el 62% o cualquier otro. Algunos percentiles tienen nombre especiales. Los cuartiles son los datos que ocupan la posición del 25%, 50% y 75%, además, el percentil 50% el la mediana."
   ]
  },
  {
   "cell_type": "code",
   "execution_count": 13,
   "id": "9_0o4V1VMKR-",
   "metadata": {
    "colab": {
     "base_uri": "https://localhost:8080/"
    },
    "id": "9_0o4V1VMKR-",
    "outputId": "3c46a180-4676-4e3d-9aac-6993b3652535"
   },
   "outputs": [
    {
     "name": "stdout",
     "output_type": "stream",
     "text": [
      "Diferentes percentiles de la distribución de la riqueza\n"
     ]
    },
    {
     "data": {
      "text/plain": [
       "0.10     1.200\n",
       "0.25     1.500\n",
       "0.50     2.400\n",
       "0.75     4.500\n",
       "0.90     8.400\n",
       "0.95    14.000\n",
       "0.99    47.319\n",
       "Name: networth_numeric, dtype: float64"
      ]
     },
     "execution_count": 13,
     "metadata": {},
     "output_type": "execute_result"
    }
   ],
   "source": [
    "print(\"Diferentes percentiles de la distribución de la riqueza\")\n",
    "df[\"networth_numeric\"].quantile([0.1, 0.25, 0.5, 0.75, 0.9, 0.95, 0.99])"
   ]
  },
  {
   "cell_type": "code",
   "execution_count": 14,
   "id": "61071587",
   "metadata": {},
   "outputs": [
    {
     "name": "stdout",
     "output_type": "stream",
     "text": [
      "Diferentes percentiles de la distribución de la edad\n"
     ]
    },
    {
     "data": {
      "text/plain": [
       "0.10    48.0\n",
       "0.25    55.0\n",
       "0.50    64.0\n",
       "0.75    74.0\n",
       "0.90    81.0\n",
       "0.95    86.0\n",
       "0.99    94.0\n",
       "Name: age, dtype: float64"
      ]
     },
     "execution_count": 14,
     "metadata": {},
     "output_type": "execute_result"
    }
   ],
   "source": [
    "print(\"Diferentes percentiles de la distribución de la edad\")\n",
    "df[\"age\"].quantile([0.1, 0.25, 0.5, 0.75, 0.9, 0.95, 0.99])"
   ]
  },
  {
   "cell_type": "markdown",
   "id": "v4jTCMNiJTDz",
   "metadata": {
    "id": "v4jTCMNiJTDz"
   },
   "source": [
    "### Mediana ponderada\n",
    "Siguiendo la intuición detrás de la media ponderada, podemos, en vez de quedarnos con la observación del medio de la serie de datos utilizar los pesos para escoger la observación que separa la muestra en dos mitades cuyas sumas de peso resultan iguales."
   ]
  },
  {
   "cell_type": "code",
   "execution_count": 36,
   "id": "Jbu5dgQ1QCj0",
   "metadata": {
    "colab": {
     "base_uri": "https://localhost:8080/"
    },
    "id": "Jbu5dgQ1QCj0",
    "outputId": "d06fbb4c-7de1-4eb1-8a19-ec485cc47947"
   },
   "outputs": [
    {
     "name": "stdout",
     "output_type": "stream",
     "text": [
      "Requirement already satisfied: wquantiles in c:\\users\\windows\\anaconda3\\lib\\site-packages (0.6)\n",
      "Requirement already satisfied: numpy>=1.18 in c:\\users\\windows\\anaconda3\\lib\\site-packages (from wquantiles) (1.21.5)\n"
     ]
    }
   ],
   "source": [
    "# utilizando wquantiles\n",
    "!pip install wquantiles\n",
    "import wquantiles"
   ]
  },
  {
   "cell_type": "code",
   "execution_count": 37,
   "id": "kE6RNWscPoWA",
   "metadata": {
    "colab": {
     "base_uri": "https://localhost:8080/"
    },
    "id": "kE6RNWscPoWA",
    "outputId": "e153197c-b5cc-4214-a48f-e5b4bf1b71f3"
   },
   "outputs": [
    {
     "data": {
      "text/plain": [
       "65.0"
      ]
     },
     "execution_count": 37,
     "metadata": {},
     "output_type": "execute_result"
    }
   ],
   "source": [
    "round( wquantiles.median(df[\"age\"], weights=df[\"networth_numeric\"]),2)"
   ]
  },
  {
   "cell_type": "markdown",
   "id": "Rn665-c8MjAf",
   "metadata": {
    "id": "Rn665-c8MjAf"
   },
   "source": [
    "### Media truncada\n",
    "La media truncada se calcula como la media de los datos inferiores a cierta cota superior y superiores a cierta cota inferior. Esta medida nos ofrece un valor de media robusto ya que elimina los datos más extremos que podrían desvirturar la media."
   ]
  },
  {
   "cell_type": "code",
   "execution_count": 40,
   "id": "S4Z6K5VvKbBE",
   "metadata": {
    "colab": {
     "base_uri": "https://localhost:8080/"
    },
    "id": "S4Z6K5VvKbBE",
    "outputId": "2883c4ce-fcea-4280-b130-dc2667e3f455"
   },
   "outputs": [
    {
     "name": "stdout",
     "output_type": "stream",
     "text": [
      "Media truncada\n"
     ]
    },
    {
     "data": {
      "text/plain": [
       "3.01"
      ]
     },
     "execution_count": 40,
     "metadata": {},
     "output_type": "execute_result"
    }
   ],
   "source": [
    "print(\"Media truncada\")\n",
    "cota_inf = df[\"networth_numeric\"].quantile([0.1]).iloc[0]\n",
    "cota_sup = df[\"networth_numeric\"].quantile([0.9]).iloc[0]\n",
    "round(df.loc[(df[\"networth_numeric\"] > cota_inf ) & (df[\"networth_numeric\"] < cota_sup), \"networth_numeric\"].mean(),2)"
   ]
  },
  {
   "cell_type": "code",
   "execution_count": 39,
   "id": "Akjp7jkJOz6H",
   "metadata": {
    "colab": {
     "base_uri": "https://localhost:8080/"
    },
    "id": "Akjp7jkJOz6H",
    "outputId": "af49079d-0294-4310-b371-11869e7137eb"
   },
   "outputs": [
    {
     "data": {
      "text/plain": [
       "3.0"
      ]
     },
     "execution_count": 39,
     "metadata": {},
     "output_type": "execute_result"
    }
   ],
   "source": [
    "# utilizando scipy\n",
    "from scipy.stats import trim_mean\n",
    "round(trim_mean(df[\"networth_numeric\"], 0.1),2)"
   ]
  },
  {
   "cell_type": "markdown",
   "id": "GAO7AzcMNoKK",
   "metadata": {
    "id": "GAO7AzcMNoKK"
   },
   "source": [
    "### Datos robustos y outliers\n",
    "\n",
    "Los outliers o datos atípicos son aquellos que se encuentran muy deslocalizados con respecto a los datos habituales de la distribución. Los outliers pueden desvirtuar nuestras medidas, como por ejemplo la media. \n",
    "\n",
    "Es muy importante entender el origen de los outliers, ¿puede tratarse de un valor que indica un error? ¿está representando una situación que se aleja mucho de la tónica general y por tanto no interesa?  \n",
    "\n",
    "\n",
    "Los outliers pueden tratarse estadísticamente o aplicar criterios de negocio para eliminarlos. En cualquier caso, lo ideal es tenerlos siempre analizados."
   ]
  },
  {
   "cell_type": "markdown",
   "id": "7c3eb1b3",
   "metadata": {},
   "source": [
    "## MEDIDAS DE DISPERSION <a class=\"anchor\" id=\"variacion\"></a>"
   ]
  },
  {
   "cell_type": "markdown",
   "id": "zr2Lkg_AFqQ2",
   "metadata": {
    "id": "zr2Lkg_AFqQ2"
   },
   "source": [
    "## Estadísticos de variación<a class=\"anchor\" id=\"variacion\"></a>"
   ]
  },
  {
   "cell_type": "markdown",
   "id": "3t3Why7GKYfb",
   "metadata": {
    "id": "3t3Why7GKYfb"
   },
   "source": [
    "### Varianza\n",
    "La estimación más común de la variabilidad es la varianza y la desviación estándar. \n",
    "La varianza es la media de las desviaciones al cuadrado. Se calcula como la sumatoria de todas las desviaciones individuales elevadas al cuadrado y se divide el resultado por el número total de observaciones.\n",
    "\n",
    "<img src=\"https://drive.google.com/uc?id=16a-bnPRrDNYBLmog7IUMOR0AeGZf9Y14\" alt=\"drawing\" width=\"450\"/>\n"
   ]
  },
  {
   "cell_type": "code",
   "execution_count": 16,
   "id": "zyxdCStyM_8j",
   "metadata": {
    "colab": {
     "base_uri": "https://localhost:8080/"
    },
    "id": "zyxdCStyM_8j",
    "outputId": "eadf934c-4f69-429f-ff46-de982a4d23df"
   },
   "outputs": [
    {
     "data": {
      "text/plain": [
       "113.58"
      ]
     },
     "execution_count": 16,
     "metadata": {},
     "output_type": "execute_result"
    }
   ],
   "source": [
    "import numpy as np\n",
    "round(np.var(df[\"networth_numeric\"]),2)"
   ]
  },
  {
   "cell_type": "markdown",
   "id": "XPKklNwdJB3y",
   "metadata": {
    "id": "XPKklNwdJB3y"
   },
   "source": [
    "### Desviación estándar\n",
    "<img src=\"https://drive.google.com/uc?id=1kfTmVza3kifNc7Ismir6gm41llhUzhUH\" alt=\"drawing\" width=\"450\"/>"
   ]
  },
  {
   "cell_type": "markdown",
   "id": "2aabcc77",
   "metadata": {},
   "source": [
    "La desviación estandar es la raíz cuadrada de la varianza y siempre comparte la misma medida que los datos originales\n",
    "con cuales se calculo la varianza. (La DS siempre esta en la misma medida que los datos)\n",
    "\n",
    "La desviación estándar es un índice numérico de la dispersión de un conjunto de datos.\n",
    "La desviación estándar es la distancia promedio de todos los valores medidos de una variable de la media de la distribución.Por tanto, indica cuánto se dispersan los valores individuales alrededor del valor medio. \n",
    "Mientras mayor es la desviación estándar, mayor es la dispersión.\n"
   ]
  },
  {
   "cell_type": "code",
   "execution_count": 17,
   "id": "TtNoVTcQOohW",
   "metadata": {
    "colab": {
     "base_uri": "https://localhost:8080/"
    },
    "id": "TtNoVTcQOohW",
    "outputId": "78970584-7d20-4e0c-95b2-e06af891a115"
   },
   "outputs": [
    {
     "data": {
      "text/plain": [
       "10.66"
      ]
     },
     "execution_count": 17,
     "metadata": {},
     "output_type": "execute_result"
    }
   ],
   "source": [
    "round(df[\"networth_numeric\"].std(),2)"
   ]
  },
  {
   "cell_type": "markdown",
   "id": "51967471",
   "metadata": {},
   "source": [
    "Cuando vemos una DS =  a la media (en valores) ya podemos decir que los datos estan dispersos.  "
   ]
  },
  {
   "cell_type": "code",
   "execution_count": 18,
   "id": "NRXfDcVbOqO-",
   "metadata": {
    "colab": {
     "base_uri": "https://localhost:8080/"
    },
    "id": "NRXfDcVbOqO-",
    "outputId": "9ecdbf20-95b5-46e9-bfe0-ae3655d25b5e"
   },
   "outputs": [
    {
     "data": {
      "text/plain": [
       "10.66"
      ]
     },
     "execution_count": 18,
     "metadata": {},
     "output_type": "execute_result"
    }
   ],
   "source": [
    "import numpy as np\n",
    "round(np.std(df[\"networth_numeric\"]),2)"
   ]
  },
  {
   "cell_type": "code",
   "execution_count": 19,
   "id": "9ef13697",
   "metadata": {},
   "outputs": [
    {
     "data": {
      "text/plain": [
       "13.22"
      ]
     },
     "execution_count": 19,
     "metadata": {},
     "output_type": "execute_result"
    }
   ],
   "source": [
    "round(df[\"age\"].std(),2)"
   ]
  },
  {
   "cell_type": "markdown",
   "id": "RNxo-dfhKMzL",
   "metadata": {
    "id": "RNxo-dfhKMzL"
   },
   "source": [
    "### Desviación absoluta media\n",
    "Una buena medida de la variabilidad es la estimación del valor típico de las desviaciones. Como hacer simplemente la media no nos daría mucha información ya que la combinación de desviaciones negativas anularian las desviaciones positivas, un acercamiento más simple consiste en tomar la media de los valores absolutos de las desviaciones.\n",
    "\n",
    "<img src=\"https://drive.google.com/uc?id=19SviCTZxyE2Cs4sdpolJMBqphXshAbTo\" alt=\"drawing\" width=\"450\"/>"
   ]
  },
  {
   "cell_type": "code",
   "execution_count": 20,
   "id": "OqhidPMbQAnd",
   "metadata": {
    "colab": {
     "base_uri": "https://localhost:8080/"
    },
    "id": "OqhidPMbQAnd",
    "outputId": "8b3e93e1-839c-43ec-ca93-276a358711b9"
   },
   "outputs": [
    {
     "data": {
      "text/plain": [
       "4.07"
      ]
     },
     "execution_count": 20,
     "metadata": {},
     "output_type": "execute_result"
    }
   ],
   "source": [
    "round(df[\"networth_numeric\"].mad(), 2)"
   ]
  },
  {
   "cell_type": "markdown",
   "id": "XE4VjL1rT92v",
   "metadata": {
    "id": "XE4VjL1rT92v"
   },
   "source": [
    "### Estadísticos de órden\n",
    "En ocasiones, para entender las desviaciones resulta útil centrarse en las observaciones que ocupan cierta posición ordenada dentro de la distribución y como de separadas se encuentran las mismas al ordendarse. Vamos a ver el rango y las estimaciones basadas en percentiles."
   ]
  },
  {
   "cell_type": "markdown",
   "id": "StutploKSiqZ",
   "metadata": {
    "id": "StutploKSiqZ"
   },
   "source": [
    "#### Rango\n",
    "El rango es la diferencia entre el mayor y el menor valor de la distribución. Esta medida, en relación a los estimadores de posición y a los de desviación puede ayudarnos a entender mejor cómo se distribuyen los datos y si tenemos outliers."
   ]
  },
  {
   "cell_type": "code",
   "execution_count": 38,
   "id": "2_q1Ne20TUqR",
   "metadata": {
    "colab": {
     "base_uri": "https://localhost:8080/"
    },
    "id": "2_q1Ne20TUqR",
    "outputId": "c68cdf6f-e44b-4079-ed79-c18f574703d4"
   },
   "outputs": [
    {
     "name": "stdout",
     "output_type": "stream",
     "text": [
      "218.0\n",
      "4.86\n",
      "2.4\n"
     ]
    }
   ],
   "source": [
    "rango = df[\"networth_numeric\"].max() - df[\"networth_numeric\"].min()\n",
    "print(rango)\n",
    "print(round(df[\"networth_numeric\"].mean(), 2))\n",
    "print(df[\"networth_numeric\"].median())"
   ]
  },
  {
   "cell_type": "code",
   "execution_count": 39,
   "id": "1a11a640",
   "metadata": {},
   "outputs": [
    {
     "name": "stdout",
     "output_type": "stream",
     "text": [
      "81\n",
      "64.27\n",
      "64.0\n"
     ]
    }
   ],
   "source": [
    "rango = df[\"age\"].max() - df[\"age\"].min()\n",
    "print(rango)\n",
    "print(round(df[\"age\"].mean(), 2))\n",
    "print(df[\"age\"].median())"
   ]
  },
  {
   "cell_type": "markdown",
   "id": "gblFphGVUieY",
   "metadata": {
    "id": "gblFphGVUieY"
   },
   "source": [
    "#### Estimaciones basadas en percentiles\n",
    "Ya hemos definido, en la sección de estadísticos de posición, los percentiles. Si medimos la distancia que existe entre ellos podemos tener medidas de la dispersión y desviación de la muestra. El cálculo más típcico es el IQR o rango intercuartílico que es la diferencia entre el percentil 0.75 y el 0.25.\n",
    "\n",
    "Este valor, el IQR, nos puede ayudar a filtrar automáticamente los outliers. Resulta típico establecer un parámetro de filtrado,f , que puede ser 1.5, 3 (tipicamente) o más y filtrar todos aquellos valores que queden por encima de la mediana más f veces el rango intercuartílico y por debajo de la mediana menos f veces el rango intercuartílico.\n",
    "\n"
   ]
  },
  {
   "cell_type": "code",
   "execution_count": 26,
   "id": "icA31LBiW7zC",
   "metadata": {
    "id": "icA31LBiW7zC"
   },
   "outputs": [],
   "source": [
    "IQR = df[\"networth_numeric\"].quantile(0.75) - df[\"networth_numeric\"].quantile(0.25)"
   ]
  },
  {
   "cell_type": "code",
   "execution_count": 27,
   "id": "iSYR1rh1XOs_",
   "metadata": {
    "colab": {
     "base_uri": "https://localhost:8080/"
    },
    "id": "iSYR1rh1XOs_",
    "outputId": "094e707d-7fa7-4116-e909-63c991ea485e"
   },
   "outputs": [
    {
     "name": "stdout",
     "output_type": "stream",
     "text": [
      "3.0\n",
      "[-2.1, 6.9]\n"
     ]
    }
   ],
   "source": [
    "print(IQR)\n",
    "print([df[\"networth_numeric\"].median() - 1.5*IQR,df[\"networth_numeric\"].median() + 1.5*IQR])"
   ]
  },
  {
   "cell_type": "markdown",
   "id": "5c5d807b",
   "metadata": {},
   "source": [
    "by María Belén Camandone"
   ]
  }
 ],
 "metadata": {
  "colab": {
   "collapsed_sections": [],
   "provenance": []
  },
  "kernelspec": {
   "display_name": "Python 3 (ipykernel)",
   "language": "python",
   "name": "python3"
  },
  "language_info": {
   "codemirror_mode": {
    "name": "ipython",
    "version": 3
   },
   "file_extension": ".py",
   "mimetype": "text/x-python",
   "name": "python",
   "nbconvert_exporter": "python",
   "pygments_lexer": "ipython3",
   "version": "3.9.12"
  }
 },
 "nbformat": 4,
 "nbformat_minor": 5
}
